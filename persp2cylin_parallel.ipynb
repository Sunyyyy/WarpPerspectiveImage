{
 "cells": [
  {
   "cell_type": "code",
   "execution_count": 73,
   "metadata": {},
   "outputs": [
    {
     "data": {
      "text/plain": [
       "(900, 1600, 3)"
      ]
     },
     "execution_count": 73,
     "metadata": {},
     "output_type": "execute_result"
    }
   ],
   "source": [
    "import cv2\n",
    "import numpy as np\n",
    "from math import *\n",
    "\n",
    "undistorted_image = cv2.imread(\"000001.jpg\")\n",
    "undistorted_image = cv2.resize(undistorted_image, (undistorted_image.shape[1], undistorted_image.shape[0]), interpolation=cv2.INTER_CUBIC)\n",
    "undistorted_image.shape"
   ]
  },
  {
   "cell_type": "code",
   "execution_count": 74,
   "metadata": {},
   "outputs": [],
   "source": [
    "def PointMap(xx, yy, r):\n",
    "    ''' \n",
    "    将一个柱面图像上的点用等距模型映射到单位柱面\n",
    "    input:\n",
    "        xx, yy: 输入参数，畸变图像上的点的坐标\n",
    "        theta_max 柱面镜头视场角\n",
    "        r  制作的柱面图像半径\n",
    "    output:\n",
    "        new_x, new_y : 输出参数，单位球面上点的坐标\n",
    "    '''\n",
    "    f = r\n",
    "    tx = f * np.tan(xx / f)\n",
    "    ty = yy / np.cos(xx / f)\n",
    "\n",
    "    return tx, ty\n"
   ]
  },
  {
   "cell_type": "code",
   "execution_count": 75,
   "metadata": {},
   "outputs": [],
   "source": [
    "\n",
    "def RectifyMap(r, ori_height, ori_width):\n",
    "    '''\n",
    "    生成从原图像到柱面图像的坐标的映射矩阵mapx mapy  \n",
    "    input:\n",
    "\t    r: 圆半径，柱面图像半径\n",
    "    output:\n",
    "        mapy, mapy: 映射关系\n",
    "    '''\n",
    "    height = ori_height   # 映射图像的高度\n",
    "    width = int(r * np.arctan(ori_width / 2 / r)) * 2 # 使用柱面参数计算映射图像宽度\n",
    "\n",
    "    center_x = width / 2\n",
    "    center_y = height / 2\n",
    "\n",
    "    x = np.linspace(0, width-1, num=width, dtype=int)\n",
    "    y = np.linspace(0, height-1, num=height, dtype=int)\n",
    "    centx = np.ones_like(x, dtype=int) * center_x\n",
    "    centy = np.ones_like(y, dtype=int) * center_y\n",
    "    x = x - centx\n",
    "    y = centy - y\n",
    "    xx, yy = np.meshgrid(x, y)\n",
    "\n",
    "    mapx, mapy = PointMap(xx, yy, r)\n",
    "    \n",
    "    return mapx, mapy\n",
    "\n",
    "ori_height, ori_width = undistorted_image.shape[0:2]\n",
    "mapx, mapy = RectifyMap(1000, ori_height, ori_width)"
   ]
  },
  {
   "cell_type": "code",
   "execution_count": 76,
   "metadata": {},
   "outputs": [
    {
     "data": {
      "text/plain": [
       "True"
      ]
     },
     "execution_count": 76,
     "metadata": {},
     "output_type": "execute_result"
    }
   ],
   "source": [
    "def UndisImage(undistorted_image, mapx, mapy):\n",
    "    '''\n",
    "    矫正图像\n",
    "    '''\n",
    "    assert(mapx.shape == mapy.shape)\n",
    "    height, width = undistorted_image.shape[0:2]\n",
    "    cx = width / 2\n",
    "    cy = height / 2\n",
    "\n",
    "    x = (mapx + np.ones_like(mapx) * cx)\n",
    "    y = (np.ones_like(mapy) * cy - mapy)\n",
    "    \n",
    "    distort_image = cv2.remap(undistorted_image, x.astype(np.float32), y.astype(np.float32), cv2.INTER_LINEAR)\n",
    "\n",
    "    return distort_image\n",
    "\n",
    "distort_image = UndisImage(undistorted_image, mapx, mapy)\n",
    "\n",
    "cv2.imwrite('cylindrical.jpg', distort_image)"
   ]
  }
 ],
 "metadata": {
  "kernelspec": {
   "display_name": "py39-torch10",
   "language": "python",
   "name": "python3"
  },
  "language_info": {
   "codemirror_mode": {
    "name": "ipython",
    "version": 3
   },
   "file_extension": ".py",
   "mimetype": "text/x-python",
   "name": "python",
   "nbconvert_exporter": "python",
   "pygments_lexer": "ipython3",
   "version": "3.8.16"
  },
  "orig_nbformat": 4
 },
 "nbformat": 4,
 "nbformat_minor": 2
}
