{
 "cells": [
  {
   "cell_type": "code",
   "execution_count": 61,
   "metadata": {},
   "outputs": [
    {
     "data": {
      "text/plain": [
       "(900, 1600, 3)"
      ]
     },
     "execution_count": 61,
     "metadata": {},
     "output_type": "execute_result"
    }
   ],
   "source": [
    "import cv2\n",
    "import numpy as np\n",
    "from math import *\n",
    "\n",
    "undistorted_image = cv2.imread(\"000001.jpg\")\n",
    "undistorted_image = cv2.resize(undistorted_image, (undistorted_image.shape[1], undistorted_image.shape[0]), interpolation=cv2.INTER_CUBIC)\n",
    "undistorted_image.shape"
   ]
  },
  {
   "cell_type": "code",
   "execution_count": 62,
   "metadata": {},
   "outputs": [],
   "source": [
    "def PointMap(xx, yy, r):\n",
    "    ''' \n",
    "    将一个鱼眼图像上的点用等距模型映射到单位球面\n",
    "    input:\n",
    "        x,y: 输入参数，畸变图像上的点的坐标\n",
    "        theta_max 鱼眼镜头视场角\n",
    "        r  制作的鱼眼图像半径\n",
    "    output:\n",
    "        new_x, new_y : 输出参数，单位球面上点的坐标\n",
    "    '''\n",
    "\n",
    "    l = np.sqrt(np.power(xx, 2) + np.power(yy, 2))    # 鱼眼图上某点距中心距离\n",
    "    theta_max = pi / 2   # 鱼眼镜头半场视角\n",
    "\n",
    "    alpha = np.ones_like(xx) * (pi/2)\n",
    "    alpha[xx != 0] = np.arctan2(yy[xx != 0], xx[xx != 0]) \n",
    "    \n",
    "    f = r / theta_max   # 用等距投影的方式计算焦距f\n",
    "    theta = l / f       # 鱼眼图映射到单位圆（theta = r/f）\n",
    "    d = f * np.tan(theta)  # 单位圆映射到原图\n",
    "\n",
    "    tx = d * np.cos(alpha)\n",
    "    ty = d * np.sin(alpha)\n",
    "\n",
    "    # 防止图片出现撕裂\n",
    "    tx[xx > 0] = np.abs(tx[xx > 0])\n",
    "    tx[xx < 0] = - np.abs(tx[xx < 0])\n",
    "    tx[xx == 0] = 0\n",
    "    ty[yy > 0] = np.abs(ty[yy > 0])\n",
    "    ty[yy < 0] = - np.abs(ty[yy < 0])\n",
    "    ty[yy == 0] = 0\n",
    "\n",
    "\n",
    "    return tx, ty"
   ]
  },
  {
   "cell_type": "code",
   "execution_count": 63,
   "metadata": {},
   "outputs": [],
   "source": [
    "\n",
    "def RectifyMap(r):\n",
    "    '''\n",
    "    生成从原图像到鱼眼图像的坐标的映射矩阵mapx mapy  \n",
    "    input:\n",
    "\t    r: 圆半径，鱼眼图像半径\n",
    "    output:\n",
    "        mapy, mapy: 映射关系\n",
    "    '''\n",
    "    width = 2 * r   # 映射图像的宽度\n",
    "    height = 2 * r\n",
    "    center_x = width / 2\n",
    "    center_y = height / 2\n",
    "\n",
    "    x = np.linspace(0, width-1, num=width, dtype=int)\n",
    "    y = np.linspace(0, height-1, num=height, dtype=int)\n",
    "    centx = np.ones_like(x, dtype=int) * center_x\n",
    "    centy = np.ones_like(y, dtype=int) * center_y\n",
    "    x = x - centx\n",
    "    y = centy - y\n",
    "    xx, yy = np.meshgrid(x, y)\n",
    "\n",
    "    inv_mask = np.sqrt(np.power(xx, 2) + np.power(yy, 2)) > r   # 鱼眼成像范围随便映射为原图像尺寸外即可\n",
    "    mapx, mapy = PointMap(xx, yy, r)\n",
    "    mapx[inv_mask] = -1e5\n",
    "    mapy[inv_mask] = -1e5\n",
    "    \n",
    "    return mapx, mapy\n",
    "\n",
    "mapx, mapy = RectifyMap(100)"
   ]
  },
  {
   "cell_type": "code",
   "execution_count": 64,
   "metadata": {},
   "outputs": [
    {
     "name": "stdout",
     "output_type": "stream",
     "text": [
      "[[-99200. -99200. -99200. ... -99200. -99200. -99200.]\n",
      " [-99200. -99200. -99200. ... -99200. -99200. -99200.]\n",
      " [-99200. -99200. -99200. ... -99200. -99200. -99200.]\n",
      " ...\n",
      " [-99200. -99200. -99200. ... -99200. -99200. -99200.]\n",
      " [-99200. -99200. -99200. ... -99200. -99200. -99200.]\n",
      " [-99200. -99200. -99200. ... -99200. -99200. -99200.]]\n"
     ]
    },
    {
     "data": {
      "text/plain": [
       "True"
      ]
     },
     "execution_count": 64,
     "metadata": {},
     "output_type": "execute_result"
    }
   ],
   "source": [
    "def UndisImage(undistorted_image, mapx, mapy):\n",
    "    '''\n",
    "    矫正图像\n",
    "    '''\n",
    "    assert(mapx.shape == mapy.shape)\n",
    "    height, width = undistorted_image.shape[0:2]\n",
    "    channel = undistorted_image.shape[-1]\n",
    "    cx = width / 2\n",
    "    cy = height / 2\n",
    "\n",
    "    x = (mapx + np.ones_like(mapx) * cx)\n",
    "    y = (np.ones_like(mapy) * cy - mapy)\n",
    "    print(x)\n",
    "    \n",
    "    distort_image = cv2.remap(undistorted_image, x.astype(np.float32), y.astype(np.float32), cv2.INTER_LINEAR)\n",
    "\n",
    "    return distort_image\n",
    "\n",
    "distort_image = UndisImage(undistorted_image, mapx, mapy)\n",
    "\n",
    "cv2.imwrite('fisheye.jpg', distort_image)"
   ]
  }
 ],
 "metadata": {
  "kernelspec": {
   "display_name": "py39-torch10",
   "language": "python",
   "name": "python3"
  },
  "language_info": {
   "codemirror_mode": {
    "name": "ipython",
    "version": 3
   },
   "file_extension": ".py",
   "mimetype": "text/x-python",
   "name": "python",
   "nbconvert_exporter": "python",
   "pygments_lexer": "ipython3",
   "version": "3.8.16"
  },
  "orig_nbformat": 4
 },
 "nbformat": 4,
 "nbformat_minor": 2
}
