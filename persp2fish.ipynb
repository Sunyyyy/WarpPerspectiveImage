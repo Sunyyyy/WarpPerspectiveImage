{
 "cells": [
  {
   "cell_type": "code",
   "execution_count": 1,
   "metadata": {},
   "outputs": [
    {
     "ename": "AttributeError",
     "evalue": "'NoneType' object has no attribute 'shape'",
     "output_type": "error",
     "traceback": [
      "\u001b[1;31m---------------------------------------------------------------------------\u001b[0m",
      "\u001b[1;31mAttributeError\u001b[0m                            Traceback (most recent call last)",
      "\u001b[1;32m~\\AppData\\Local\\Temp\\ipykernel_8124\\2901432336.py\u001b[0m in \u001b[0;36m<module>\u001b[1;34m\u001b[0m\n\u001b[0;32m      4\u001b[0m \u001b[1;33m\u001b[0m\u001b[0m\n\u001b[0;32m      5\u001b[0m \u001b[0mundistorted_image\u001b[0m \u001b[1;33m=\u001b[0m \u001b[0mcv2\u001b[0m\u001b[1;33m.\u001b[0m\u001b[0mimread\u001b[0m\u001b[1;33m(\u001b[0m\u001b[1;34m\"002720.png\"\u001b[0m\u001b[1;33m)\u001b[0m\u001b[1;33m\u001b[0m\u001b[1;33m\u001b[0m\u001b[0m\n\u001b[1;32m----> 6\u001b[1;33m \u001b[0mundistorted_image\u001b[0m \u001b[1;33m=\u001b[0m \u001b[0mcv2\u001b[0m\u001b[1;33m.\u001b[0m\u001b[0mresize\u001b[0m\u001b[1;33m(\u001b[0m\u001b[0mundistorted_image\u001b[0m\u001b[1;33m,\u001b[0m \u001b[1;33m(\u001b[0m\u001b[0mundistorted_image\u001b[0m\u001b[1;33m.\u001b[0m\u001b[0mshape\u001b[0m\u001b[1;33m[\u001b[0m\u001b[1;36m1\u001b[0m\u001b[1;33m]\u001b[0m\u001b[1;33m,\u001b[0m \u001b[0mundistorted_image\u001b[0m\u001b[1;33m.\u001b[0m\u001b[0mshape\u001b[0m\u001b[1;33m[\u001b[0m\u001b[1;36m0\u001b[0m\u001b[1;33m]\u001b[0m\u001b[1;33m)\u001b[0m\u001b[1;33m,\u001b[0m \u001b[0minterpolation\u001b[0m\u001b[1;33m=\u001b[0m\u001b[0mcv2\u001b[0m\u001b[1;33m.\u001b[0m\u001b[0mINTER_CUBIC\u001b[0m\u001b[1;33m)\u001b[0m\u001b[1;33m\u001b[0m\u001b[1;33m\u001b[0m\u001b[0m\n\u001b[0m\u001b[0;32m      7\u001b[0m \u001b[0mundistorted_image\u001b[0m\u001b[1;33m.\u001b[0m\u001b[0mshape\u001b[0m\u001b[1;33m\u001b[0m\u001b[1;33m\u001b[0m\u001b[0m\n",
      "\u001b[1;31mAttributeError\u001b[0m: 'NoneType' object has no attribute 'shape'"
     ]
    }
   ],
   "source": [
    "import cv2\n",
    "import numpy as np\n",
    "from math import *\n",
    "\n",
    "undistorted_image = cv2.imread(\"002720.png\")\n",
    "undistorted_image = cv2.resize(undistorted_image, (undistorted_image.shape[1]*4, undistorted_image.shape[0]*4), interpolation=cv2.INTER_CUBIC)\n",
    "undistorted_image.shape"
   ]
  },
  {
   "cell_type": "code",
   "execution_count": null,
   "metadata": {},
   "outputs": [],
   "source": [
    "def PointMap(x, y, r):\n",
    "    ''' \n",
    "    将一个鱼眼图像上的点用等距模型映射到单位球面\n",
    "    input:\n",
    "        x,y: 输入参数，畸变图像上的点的坐标\n",
    "        theta_max 鱼眼镜头视场角\n",
    "        r  制作的鱼眼图像半径\n",
    "    output:\n",
    "        new_x, new_y : 输出参数，单位球面上点的坐标\n",
    "    '''\n",
    "\n",
    "    l = sqrt(pow(x, 2) + pow(y, 2))    # 鱼眼图上某点距中心距离\n",
    "    theta_max = pi / 2   # 鱼眼镜头半场视角\n",
    "\n",
    "    if x == 0:\n",
    "        alpha = pi / 2\n",
    "    else:\n",
    "        alpha = atan2(y, x)\n",
    "    \n",
    "    f = r / theta_max   # 用等距投影的方式计算焦距f\n",
    "    theta = l / f       # 鱼眼图映射到单位圆（theta = r/f，单位圆r=1）\n",
    "    d = f * tan(theta)  # 单位圆映射到原图\n",
    "\n",
    "    tx = d * cos(alpha)\n",
    "    ty = d * sin(alpha)\n",
    "\n",
    "    if x > 0:\n",
    "        new_x = abs(tx)\n",
    "    elif x < 0:\n",
    "        new_x = - abs(tx)\n",
    "    else:\n",
    "        new_x = 0\n",
    "    if y > 0:\n",
    "        new_y = abs(ty)\n",
    "    elif y < 0:\n",
    "        new_y = - abs(ty)\n",
    "    else:\n",
    "        new_y = 0\n",
    "\n",
    "    return new_x, new_y"
   ]
  },
  {
   "cell_type": "code",
   "execution_count": null,
   "metadata": {},
   "outputs": [],
   "source": [
    "\n",
    "def RectifyMap(r):\n",
    "    '''\n",
    "    生成从原图像到鱼眼图像的坐标的映射矩阵mapx mapy  \n",
    "    input:\n",
    "\t    r: 圆半径，鱼眼图像半径\n",
    "    output:\n",
    "        mapy, mapy: 映射关系\n",
    "    '''\n",
    "    width = 1224   # 映射图像的宽度\n",
    "    s = 480.0 / 720.0    # 图像高和宽的比例\n",
    "\n",
    "    height = int(width * s)\n",
    "    center_x = width / 2\n",
    "    center_y = height / 2\n",
    "\n",
    "    mapx = np.zeros((height, width), dtype=float)\n",
    "    mapy = np.zeros((height, width), dtype=float)\n",
    "\n",
    "    for i in range(height):\n",
    "        for j in range(width):\n",
    "            x = j - center_x\n",
    "            y = center_y - i\n",
    "\n",
    "            if sqrt(pow(x, 2) + pow(y, 2)) < r:\n",
    "                nx, ny = PointMap(x, y, r)\n",
    "                mapx[i][j] = nx\n",
    "                mapy[i][j] = ny\n",
    "    \n",
    "    return mapx, mapy\n",
    "\n",
    "mapx, mapy = RectifyMap(400)"
   ]
  },
  {
   "cell_type": "code",
   "execution_count": null,
   "metadata": {},
   "outputs": [
    {
     "data": {
      "text/plain": [
       "-1"
      ]
     },
     "execution_count": 4,
     "metadata": {},
     "output_type": "execute_result"
    }
   ],
   "source": [
    "def UndisImage(undistorted_image, mapx, mapy):\n",
    "    '''\n",
    "    矫正图像\n",
    "    '''\n",
    "    assert(mapx.shape == mapy.shape)\n",
    "    height, width = undistorted_image.shape[0:2]\n",
    "    channel = undistorted_image.shape[-1]\n",
    "    cx = width / 2\n",
    "    cy = height / 2\n",
    "\n",
    "    distort_height, distort_width = mapx.shape\n",
    "    center_x = distort_width / 2\n",
    "    center_y = distort_height / 2\n",
    "\n",
    "    distort_image = np.zeros((distort_height, distort_width, channel), dtype=undistorted_image.dtype)\n",
    "\n",
    "    for i in range(distort_height):\n",
    "        for j in range(distort_width):\n",
    "            x = int(mapx[i][j] + cx)\n",
    "            y = int(cy - mapy[i][j])\n",
    "\n",
    "            if x - cx == -1 and cy - y == -1: #   鱼眼图圆形外不填充像素\n",
    "                continue\n",
    "            if x < 0 or x >= width or y < 0 or y >= height: # //若圆形区域内某位置，对应原图上超出范围，不填充像素，这是黑边的由来\n",
    "                continue\n",
    "            distort_image[i][j] = undistorted_image[y][x]\n",
    "\n",
    "    return distort_image\n",
    "\n",
    "distort_image = UndisImage(undistorted_image, mapx, mapy)\n",
    "distort_image.shape\n",
    "\n",
    "cv2.imshow('fisheye', distort_image)\n",
    "cv2.waitKey(0)"
   ]
  }
 ],
 "metadata": {
  "kernelspec": {
   "display_name": "py39-torch10",
   "language": "python",
   "name": "python3"
  },
  "language_info": {
   "codemirror_mode": {
    "name": "ipython",
    "version": 3
   },
   "file_extension": ".py",
   "mimetype": "text/x-python",
   "name": "python",
   "nbconvert_exporter": "python",
   "pygments_lexer": "ipython3",
   "version": "3.7.15"
  },
  "orig_nbformat": 4
 },
 "nbformat": 4,
 "nbformat_minor": 2
}
