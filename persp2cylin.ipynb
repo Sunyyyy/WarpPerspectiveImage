{
 "cells": [
  {
   "cell_type": "code",
   "execution_count": 2,
   "metadata": {},
   "outputs": [
    {
     "data": {
      "text/plain": [
       "(1800, 3200, 3)"
      ]
     },
     "execution_count": 2,
     "metadata": {},
     "output_type": "execute_result"
    }
   ],
   "source": [
    "import cv2\n",
    "import numpy as np\n",
    "from math import *\n",
    "\n",
    "undistorted_image = cv2.imread(\"000001.jpg\")\n",
    "undistorted_image = cv2.resize(undistorted_image, (undistorted_image.shape[1]*2, undistorted_image.shape[0]*2), interpolation=cv2.INTER_CUBIC)\n",
    "undistorted_image.shape"
   ]
  },
  {
   "cell_type": "code",
   "execution_count": 3,
   "metadata": {},
   "outputs": [],
   "source": [
    "def PointMap(x, y, r):\n",
    "    ''' \n",
    "    将一个柱面图像上的点用等距模型映射到单位柱面\n",
    "    input:\n",
    "        x,y: 输入参数，畸变图像上的点的坐标\n",
    "        theta_max 柱面镜头视场角\n",
    "        r  制作的柱面图像半径\n",
    "    output:\n",
    "        new_x, new_y : 输出参数，单位球面上点的坐标\n",
    "    '''\n",
    "    f = r\n",
    "    tx = f * tan(x / f)\n",
    "    ty = y / cos(x / f)\n",
    "\n",
    "    if x > 0:\n",
    "        new_x = abs(tx)\n",
    "    elif x < 0:\n",
    "        new_x = - abs(tx)\n",
    "    else:\n",
    "        new_x = 0\n",
    "    if y > 0:\n",
    "        new_y = abs(ty)\n",
    "    elif y < 0:\n",
    "        new_y = - abs(ty)\n",
    "    else:\n",
    "        new_y = 0\n",
    "\n",
    "    return new_x, new_y\n"
   ]
  },
  {
   "cell_type": "code",
   "execution_count": 4,
   "metadata": {},
   "outputs": [],
   "source": [
    "\n",
    "def RectifyMap(r, ori_height, ori_width):\n",
    "    '''\n",
    "    生成从原图像到鱼眼图像的坐标的映射矩阵mapx mapy  \n",
    "    input:\n",
    "\t    r: 圆半径，鱼眼图像半径\n",
    "    output:\n",
    "        mapy, mapy: 映射关系\n",
    "    '''\n",
    "    height = ori_height   # 映射图像的宽度\n",
    "    s = 720.0 / 480.0    # 图像高和宽的比例\n",
    "\n",
    "    width = int(height * s)\n",
    "    center_x = width / 2\n",
    "    center_y = height / 2\n",
    "\n",
    "    mapx = np.zeros((height, width), dtype=float)\n",
    "    mapy = np.zeros((height, width), dtype=float)\n",
    "\n",
    "    for i in range(height):\n",
    "        for j in range(width):\n",
    "            x = j - center_x\n",
    "            y = center_y - i\n",
    "\n",
    "            nx, ny = PointMap(x, y, r)\n",
    "            mapx[i][j] = nx\n",
    "            mapy[i][j] = ny\n",
    "    \n",
    "    return mapx, mapy\n",
    "\n",
    "ori_height, ori_width = undistorted_image.shape[0:2]\n",
    "mapx, mapy = RectifyMap(800, ori_height, ori_width)"
   ]
  },
  {
   "cell_type": "code",
   "execution_count": 6,
   "metadata": {},
   "outputs": [
    {
     "data": {
      "text/plain": [
       "True"
      ]
     },
     "execution_count": 6,
     "metadata": {},
     "output_type": "execute_result"
    }
   ],
   "source": [
    "def UndisImage(undistorted_image, mapx, mapy):\n",
    "    '''\n",
    "    矫正图像\n",
    "    '''\n",
    "    assert(mapx.shape == mapy.shape)\n",
    "    height, width = undistorted_image.shape[0:2]\n",
    "    channel = undistorted_image.shape[-1]\n",
    "    cx = width / 2\n",
    "    cy = height / 2\n",
    "\n",
    "    distort_height, distort_width = mapx.shape\n",
    "    center_x = distort_width / 2\n",
    "    center_y = distort_height / 2\n",
    "\n",
    "    distort_image = np.zeros((distort_height, distort_width, channel), dtype=undistorted_image.dtype)\n",
    "\n",
    "    for i in range(distort_height):\n",
    "        for j in range(distort_width):\n",
    "            x = int(mapx[i][j] + cx)\n",
    "            y = int(cy - mapy[i][j])\n",
    "\n",
    "            if x - cx == -1 and cy - y == -1: #   鱼眼图圆形外不填充像素\n",
    "                continue\n",
    "            if x < 0 or x >= width or y < 0 or y >= height: # //若圆形区域内某位置，对应原图上超出范围，不填充像素，这是黑边的由来\n",
    "                continue\n",
    "            distort_image[i][j] = undistorted_image[y][x]\n",
    "\n",
    "    return distort_image\n",
    "\n",
    "distort_image = UndisImage(undistorted_image, mapx, mapy)\n",
    "distort_image.shape\n",
    "\n",
    "cv2.imwrite('cylindrical.jpg', distort_image)"
   ]
  }
 ],
 "metadata": {
  "kernelspec": {
   "display_name": "py39-torch10",
   "language": "python",
   "name": "python3"
  },
  "language_info": {
   "codemirror_mode": {
    "name": "ipython",
    "version": 3
   },
   "file_extension": ".py",
   "mimetype": "text/x-python",
   "name": "python",
   "nbconvert_exporter": "python",
   "pygments_lexer": "ipython3",
   "version": "3.7.15"
  },
  "orig_nbformat": 4
 },
 "nbformat": 4,
 "nbformat_minor": 2
}
